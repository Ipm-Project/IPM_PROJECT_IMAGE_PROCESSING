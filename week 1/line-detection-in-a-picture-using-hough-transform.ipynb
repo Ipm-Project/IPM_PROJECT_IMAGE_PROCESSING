{
 "cells": [
  {
   "cell_type": "code",
   "execution_count": null,
   "metadata": {
    "collapsed": false
   },
   "outputs": [
    {
     "name": "stdout",
     "output_type": "stream",
     "text": [
      "[[[  0 123 539 278]]\n",
      "\n",
      " [[  2  56 539 170]]\n",
      "\n",
      " [[  1   3 539  98]]\n",
      "\n",
      " [[  0 306 539 306]]\n",
      "\n",
      " [[ 24  12 539 102]]\n",
      "\n",
      " [[  7   6 539 100]]\n",
      "\n",
      " [[ 35 304 539 251]]\n",
      "\n",
      " [[  4   7 539 101]]\n",
      "\n",
      " [[  1  56 523 167]]\n",
      "\n",
      " [[ 14 129 539 280]]\n",
      "\n",
      " [[ 10  53 539 165]]\n",
      "\n",
      " [[ 31  84 539 182]]]\n"
     ]
    }
   ],
   "source": [
    "import cv2\n",
    "import numpy as np\n",
    "img = cv2.imread(\"./images/image1.jpeg\")\n",
    "gray = cv2.cvtColor(img, cv2.COLOR_BGR2GRAY)\n",
    "edges = cv2.Canny(gray, 75, 150)\n",
    "lines = cv2.HoughLinesP(edges, 1, np.pi/180, 30, maxLineGap=50,minLineLength=500)\n",
    "print (lines)\n",
    "for line in lines:\n",
    "   x1, y1, x2, y2 = line[0]\n",
    "   cv2.line(img, (x1, y1), (x2, y2), (50, 0, 128), 1)\n",
    "cv2.imshow(\"linesEdges\", edges)\n",
    "cv2.imshow(\"linesDetected\", img)\n",
    "cv2.waitKey(0)\n",
    "cv2.destroyAllWindows()"
   ]
  },
  {
   "cell_type": "code",
   "execution_count": null,
   "metadata": {
    "collapsed": true
   },
   "outputs": [],
   "source": []
  },
  {
   "cell_type": "code",
   "execution_count": null,
   "metadata": {
    "collapsed": true
   },
   "outputs": [],
   "source": []
  },
  {
   "cell_type": "code",
   "execution_count": null,
   "metadata": {
    "collapsed": true
   },
   "outputs": [],
   "source": []
  }
 ],
 "metadata": {
  "anaconda-cloud": {},
  "kernelspec": {
   "display_name": "Python [Root]",
   "language": "python",
   "name": "Python [Root]"
  },
  "language_info": {
   "codemirror_mode": {
    "name": "ipython",
    "version": 3
   },
   "file_extension": ".py",
   "mimetype": "text/x-python",
   "name": "python",
   "nbconvert_exporter": "python",
   "pygments_lexer": "ipython3",
   "version": "3.5.2"
  }
 },
 "nbformat": 4,
 "nbformat_minor": 0
}
