{
 "cells": [
  {
   "cell_type": "code",
   "execution_count": 1,
   "metadata": {},
   "outputs": [],
   "source": [
    "import numpy as np\n",
    "import matplotlib.pyplot as plt\n",
    "import cv2"
   ]
  },
  {
   "cell_type": "code",
   "execution_count": 36,
   "metadata": {},
   "outputs": [
    {
     "data": {
      "text/plain": [
       "<matplotlib.image.AxesImage at 0x7f05ce9420b8>"
      ]
     },
     "execution_count": 36,
     "metadata": {},
     "output_type": "execute_result"
    },
    {
     "data": {
      "image/png": "[encoded data removed]",
      "text/plain": [
       "<Figure size 432x288 with 1 Axes>"
      ]
     },
     "metadata": {
      "needs_background": "light"
     },
     "output_type": "display_data"
    }
   ],
   "source": [
    "import numpy as np\n",
    "import matplotlib.pyplot as plt\n",
    "import cv2\n",
    "image = np.zeros((512,512,3),dtype=np.uint8)\n",
    "image[:,:,:] = 255\n",
    "\n",
    "\n",
    "x1 = np.random.randint(0,50)\n",
    "y1 = 511\n",
    "x2 = np.random.randint(50,100)\n",
    "y2 = np.random.randint(250,300)\n",
    "radius = np.random.randint(30,50)\n",
    "x_center = x2 + radius \n",
    "teta = np.random.randint(30,60)\n",
    "x3 = int(x_center-radius*np.cos(np.pi*teta/180))\n",
    "y3 = int(y2-radius*np.sin(np.pi*teta/180))\n",
    "x4 = np.random.randint(250,300)\n",
    "y4 = 0\n",
    "cv2.line(image,(x1,y1),(x2,y2),(0,0,0),10)\n",
    "cv2.ellipse(image,(x_center,y2),(radius,radius),180,0,teta,(0,0,0),10)\n",
    "cv2.line(image,(x3,y3),(x4,y4),(0,0,0),10)\n",
    "\n",
    "\n",
    "x = np.random.randint(320,400)\n",
    "y1 = 511\n",
    "y2 = 0\n",
    "cv2.line(image,(x,y1),(x,y2),(0,0,0),15)\n",
    "y3 = np.random.randint(350,400)\n",
    "radius = np.random.randint(30,50)\n",
    "x3 = x + radius\n",
    "teta = np.random.randint(45,90)\n",
    "x4 = int(x3 - radius*np.cos(np.pi*teta/180))\n",
    "y4 = int(y3 - radius*np.sin(np.pi*teta/180))\n",
    "y5 = np.random.randint(200,300)\n",
    "cv2.ellipse(image,(x3,y3),(radius,radius),180,0,teta,(0,0,0),8)\n",
    "cv2.line(image,(x4,y4),(511,y4),(0,0,0),8)\n",
    "\n",
    "radius_x = np.random.randint(170,200)\n",
    "radius_y = np.random.randint(80,110)\n",
    "cv2.ellipse(image,(0,0),(radius_x,radius_y),180,180,270,(50,50,200),15)\n",
    "\n",
    "cv2.ellipse(image,(50,40),(25,25),180,0,360,(200,200,0),2)\n",
    "cv2.rectangle(image,(45,30),(55,50),(255,250,0),-1)\n",
    "cv2.ellipse(image,(450,450),(25,25),180,0,360,(200,200,0),2)\n",
    "cv2.rectangle(image,(440,445),(460,455),(255,0,0),-1)\n",
    "\n",
    "\n",
    "def rect(x1,y1,x2,y2,image):\n",
    "    r_color = np.random.randint(50,255)\n",
    "    g_color = np.random.randint(50,255)\n",
    "    b_color = np.random.randint(50,255)\n",
    "    cv2.rectangle(image,(x1,y1),(x2,y2),(r_color,g_color,b_color),-1)\n",
    "    \n",
    "ms = [4,5]\n",
    "ns = [4,5,7]\n",
    "m = np.random.choice(ms)\n",
    "n = np.random.choice(ns)\n",
    "x_length = 100/m\n",
    "y_length = 280/n\n",
    "\n",
    "x = []\n",
    "y = []\n",
    "a = 410\n",
    "b = 10\n",
    "for i in range(m):\n",
    "    x.append(a)\n",
    "    a = a + x_length\n",
    "for i in range(n):\n",
    "    y.append(b)\n",
    "    b = b + y_length \n",
    "for i in range(len(x)):\n",
    "    for j in range(len(y)):\n",
    "        x1 = int(x[i] )\n",
    "        y1 = int(y[j] )\n",
    "        x2 = int(x1 + np.random.randint(x_length))\n",
    "        y2 = int(y1 + np.random.randint(y_length))\n",
    "        rect(x1,y1,x2,y2,image)\n",
    "        \n",
    "x1 = np.random.randint(250,300)\n",
    "y1 = 511\n",
    "x2 = x1\n",
    "y2 = np.random.randint(300,350)\n",
    "radius = np.random.randint(30,50)\n",
    "x_center = x1 - radius\n",
    "y_center = y2\n",
    "x3 = x_center\n",
    "y3 = y_center - radius\n",
    "x4 = 0\n",
    "y4 = y3\n",
    "cv2.line(image,(x1,y1),(x2,y2),(0,0,0),3)\n",
    "cv2.ellipse(image,(x_center,y_center),(radius,radius),180,180,90,(0,0,0),3)\n",
    "cv2.line(image,(x3,y3),(x4,y4),(0,0,0),3)\n",
    "\n",
    "cv2.ellipse(image,(150,400),(25,25),180,0,360,(200,200,0),2)\n",
    "cv2.rectangle(image,(145,390),(155,410),(0,0,0),-1)\n",
    "plt.imshow(image)"
   ]
  },
  {
   "cell_type": "code",
   "execution_count": null,
   "metadata": {},
   "outputs": [],
   "source": []
  },
  {
   "cell_type": "code",
   "execution_count": null,
   "metadata": {},
   "outputs": [],
   "source": []
  }
 ],
 "metadata": {
  "kernelspec": {
   "display_name": "Python 3",
   "language": "python",
   "name": "python3"
  },
  "language_info": {
   "codemirror_mode": {
    "name": "ipython",
    "version": 3
   },
   "file_extension": ".py",
   "mimetype": "text/x-python",
   "name": "python",
   "nbconvert_exporter": "python",
   "pygments_lexer": "ipython3",
   "version": "3.7.3"
  }
 },
 "nbformat": 4,
 "nbformat_minor": 2
}
