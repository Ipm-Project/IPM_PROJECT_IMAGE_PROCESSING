{
 "cells": [
  {
   "cell_type": "code",
   "execution_count": 8,
   "metadata": {},
   "outputs": [],
   "source": [
    "import numpy as np\n",
    "import cv2\n",
    "import matplotlib.pyplot as plt\n",
    "image = cv2.imread('PhaseOne-SDK.jpg')\n",
    "cv2.ellipse(image,(550,730),(50,50),180,0,360,(250,0,0),5);\n",
    "cv2.rectangle(image,(540,710),(560,750),(250,0,0),-1);"
   ]
  },
  {
   "cell_type": "code",
   "execution_count": null,
   "metadata": {},
   "outputs": [],
   "source": []
  },
  {
   "cell_type": "code",
   "execution_count": 10,
   "metadata": {},
   "outputs": [],
   "source": [
    "import numpy as np\n",
    "import imutils\n",
    "import cv2\n",
    "class Stitcher1:\n",
    "    def __init__(self):\n",
    "        self.isv3 = imutils.is_cv3(or_better=True)\n",
    "        \n",
    "        \n",
    "    def stitch(self,images,ratio=0.75,reprojThresh=4.0,showMatches=False):\n",
    "        (imageB,imageA) = images\n",
    "        (kpsA,featuresA) = self.detectAndDescribe(imageA)\n",
    "        (kpsB,featuresB) = self.detectAndDescribe(imageB)\n",
    "        M = self.matchKeypoints(kpsA,kpsB,featuresA,featuresB,ratio,reprojThresh)\n",
    "        if M is None:\n",
    "            return None\n",
    "        \n",
    "        (matches,H,status) = M\n",
    "        result = cv2.warpPerspective(imageA,H,( imageA.shape[1] + imageB.shape[1] ,imageA.shape[0] + imageB.shape[0]))\n",
    "        result[0:imageB.shape[0],0:imageB.shape[1]] = imageB\n",
    "        \n",
    "        if showMatches:\n",
    "            vis = self.drawMatches(imageA,imageB,kpsA,kpsB,matches,status)\n",
    "            return (result,vis)\n",
    "        \n",
    "        return result\n",
    "    def detectAndDescribe(self,image):\n",
    "        gray = cv2.cvtColor(image,cv2.COLOR_BGR2GRAY)\n",
    "        if self.isv3:\n",
    "            descriptor = cv2.xfeatures2d.SIFT_create()\n",
    "            (kps,features) = descriptor.detectAndCompute(image,None)\n",
    "        else:\n",
    "            detector = cv2.FeatureDetector_create('SIFT')\n",
    "            kps = detector.detect(gray)\n",
    "            extractor = cv2.DescriptorExtractor_create('SIFT')\n",
    "            (kps,features) = extractor.compute(gray,kps)\n",
    "            \n",
    "        kps = np.float32([kp.pt for kp in kps])\n",
    "        return (kps,features)\n",
    "        \n",
    "        \n",
    "        \n",
    "    def matchKeypoints(self,kpsA,kpsB,featuresA,featuresB,ratio,reprojThresh):\n",
    "        matcher = cv2.DescriptorMatcher_create(\"BruteForce\")\n",
    "        rawMatches = matcher.knnMatch(featuresA,featuresB,2)\n",
    "        matches = []\n",
    "        for m in rawMatches:\n",
    "            if len(m) == 2 and m[0].distance < m[1].distance * ratio:\n",
    "                matches.append((m[0].trainIdx,m[0].queryIdx))\n",
    "                \n",
    "        if len(matches) > 1:\n",
    "            ptsA = np.float32([kpsA[i] for (_,i) in matches])\n",
    "            ptsB = np.float32([kpsB[i] for (i,_) in matches])\n",
    "            \n",
    "            (H,status) = cv2.findHomography(ptsA,ptsB,cv2.RANSAC,reprojThresh)\n",
    "        \n",
    "            return (matches,H,status)\n",
    "        \n",
    "        return None\n",
    "    \n",
    "    \n",
    "    def drawMatches(self,imageA,imageB,kpsA,kpsB,matches,status):\n",
    "        (hA,wA) = imageA.shape[:2]\n",
    "        (hB,wB) = imageB.shape[:2]\n",
    "        vis = np.zeros((max(hA,hB),wA+wB , 3),dtype=\"uint8\")\n",
    "        vis[0:hA,0:wA] = imageA\n",
    "        vis[0:hB,wA:] = imageB\n",
    "        \n",
    "        for((trainIdx,queryIdx),s) in zip(matches,status):\n",
    "            ptA = (int(kpsA[queryIdx][0]),int(kpsA[queryIdx][1]))\n",
    "            ptB = (int(kpsB[trainIdx][0]) + wA, int(kpsB[trainIdx][1]))\n",
    "            cv2.line(vis,ptA,ptB,(0,255,0),1)\n",
    "            \n",
    "        return vis\n"
   ]
  },
  {
   "cell_type": "code",
   "execution_count": 11,
   "metadata": {},
   "outputs": [],
   "source": [
    "import numpy as np\n",
    "import imutils\n",
    "import cv2\n",
    "class Stitcher2:\n",
    "    def __init__(self):\n",
    "        self.isv3 = imutils.is_cv3(or_better=True)\n",
    "        \n",
    "        \n",
    "    def stitch(self,images,ratio=0.75,reprojThresh=4.0,showMatches=False):\n",
    "        (imageB,imageA) = images\n",
    "        (kpsA,featuresA) = self.detectAndDescribe(imageA)\n",
    "        (kpsB,featuresB) = self.detectAndDescribe(imageB)\n",
    "        M = self.matchKeypoints(kpsA,kpsB,featuresA,featuresB,ratio,reprojThresh)\n",
    "        if M is None:\n",
    "            return None\n",
    "        \n",
    "        (matches,H,status) = M\n",
    "        result = cv2.warpPerspective(imageA,H,( imageA.shape[1] ,imageA.shape[0] + imageB.shape[0]))\n",
    "        result[0:imageB.shape[0],0:imageB.shape[1]] = imageB\n",
    "        \n",
    "        if showMatches:\n",
    "            vis = self.drawMatches(imageA,imageB,kpsA,kpsB,matches,status)\n",
    "            return (result,vis)\n",
    "        \n",
    "        return result\n",
    "    def detectAndDescribe(self,image):\n",
    "        gray = cv2.cvtColor(image,cv2.COLOR_BGR2GRAY)\n",
    "        if self.isv3:\n",
    "            descriptor = cv2.xfeatures2d.SIFT_create()\n",
    "            (kps,features) = descriptor.detectAndCompute(image,None)\n",
    "        else:\n",
    "            detector = cv2.FeatureDetector_create('SIFT')\n",
    "            kps = detector.detect(gray)\n",
    "            extractor = cv2.DescriptorExtractor_create('SIFT')\n",
    "            (kps,features) = extractor.compute(gray,kps)\n",
    "            \n",
    "        kps = np.float32([kp.pt for kp in kps])\n",
    "        return (kps,features)\n",
    "        \n",
    "        \n",
    "        \n",
    "    def matchKeypoints(self,kpsA,kpsB,featuresA,featuresB,ratio,reprojThresh):\n",
    "        matcher = cv2.DescriptorMatcher_create(\"BruteForce\")\n",
    "        rawMatches = matcher.knnMatch(featuresA,featuresB,2)\n",
    "        matches = []\n",
    "        for m in rawMatches:\n",
    "            if len(m) == 2 and m[0].distance < m[1].distance * ratio:\n",
    "                matches.append((m[0].trainIdx,m[0].queryIdx))\n",
    "                \n",
    "        if len(matches) > 1:\n",
    "            ptsA = np.float32([kpsA[i] for (_,i) in matches])\n",
    "            ptsB = np.float32([kpsB[i] for (i,_) in matches])\n",
    "            \n",
    "            (H,status) = cv2.findHomography(ptsA,ptsB,cv2.RANSAC,reprojThresh)\n",
    "        \n",
    "            return (matches,H,status)\n",
    "        \n",
    "        return None\n",
    "    \n",
    "    \n",
    "    def drawMatches(self,imageA,imageB,kpsA,kpsB,matches,status):\n",
    "        (hA,wA) = imageA.shape[:2]\n",
    "        (hB,wB) = imageB.shape[:2]\n",
    "        vis = np.zeros((max(hA,hB),wA+wB , 3),dtype=\"uint8\")\n",
    "        vis[0:hA,0:wA] = imageA\n",
    "        vis[0:hB,wA:] = imageB\n",
    "        \n",
    "        for((trainIdx,queryIdx),s) in zip(matches,status):\n",
    "            ptA = (int(kpsA[queryIdx][0]),int(kpsA[queryIdx][1]))\n",
    "            ptB = (int(kpsB[trainIdx][0]) + wA, int(kpsB[trainIdx][1]))\n",
    "            cv2.line(vis,ptA,ptB,(0,255,0),1)\n",
    "            \n",
    "        return vis\n",
    "    "
   ]
  },
  {
   "cell_type": "code",
   "execution_count": 14,
   "metadata": {},
   "outputs": [],
   "source": [
    "images = ['image1.jpg','image2.jpg','image3.jpg','image4.jpg','image5.jpg']\n",
    "y1 = 0\n",
    "y2 = 300\n",
    "x1 = 0\n",
    "x2 = 200\n",
    "for i in range(len(images)):\n",
    "    image_crop = image[x1:x2,y1:y2,:]\n",
    "    cv2.imwrite(images[i],image_crop)\n",
    "    x1 = x1 + 100\n",
    "    x2 = x2 + 100\n",
    "    y1 = y1 + 100\n",
    "    y2 = y2 + 100\n",
    "result1 = cv2.imread(images[0])\n",
    "for i in range(len(images)-1):\n",
    "    imageA = result1\n",
    "    imageB = cv2.imread(images[i+1])\n",
    "    stitcher = Stitcher1()\n",
    "    (a,b) = stitcher.stitch([imageA,imageB],showMatches=True)\n",
    "    \n",
    "    y = 0\n",
    "    for i in range(a.shape[1]):\n",
    "        if np.sum(a[:,i,:]) == 0:\n",
    "            y = i\n",
    "            break\n",
    "            \n",
    "    x = 0\n",
    "    for i in range(a.shape[0]):\n",
    "        if np.sum(a[i,:,:]) == 0:\n",
    "            x = i\n",
    "            break\n",
    "            \n",
    "    a = a[0:x,0:y,:]\n",
    "    result1 = a\n",
    "    "
   ]
  },
  {
   "cell_type": "code",
   "execution_count": 24,
   "metadata": {},
   "outputs": [],
   "source": [
    "image6 = image[500:700,400:700,:]\n",
    "image7 = image[600:800,400:700,:]\n",
    "cv2.imwrite('image6.jpg',image6)\n",
    "cv2.imwrite('image7.jpg',image7)\n",
    "imageA = cv2.imread('image6.jpg')\n",
    "imageB = cv2.imread('image7.jpg')\n",
    "\n",
    "stitcher = Stitcher2()\n",
    "(a,b) = stitcher.stitch([imageA,imageB],showMatches=True)\n"
   ]
  },
  {
   "cell_type": "code",
   "execution_count": 26,
   "metadata": {},
   "outputs": [
    {
     "data": {
      "text/plain": [
       "True"
      ]
     },
     "execution_count": 26,
     "metadata": {},
     "output_type": "execute_result"
    }
   ],
   "source": [
    "cv2.imwrite('result2.jpg',a)"
   ]
  },
  {
   "cell_type": "code",
   "execution_count": 27,
   "metadata": {},
   "outputs": [
    {
     "data": {
      "text/plain": [
       "True"
      ]
     },
     "execution_count": 27,
     "metadata": {},
     "output_type": "execute_result"
    }
   ],
   "source": [
    "cv2.imwrite('result1.jpg',result1)"
   ]
  },
  {
   "cell_type": "code",
   "execution_count": 28,
   "metadata": {},
   "outputs": [],
   "source": [
    "result1 = cv2.imread('result1.jpg')\n",
    "result2 = cv2.imread('result2.jpg')"
   ]
  },
  {
   "cell_type": "raw",
   "metadata": {},
   "source": []
  },
  {
   "cell_type": "code",
   "execution_count": 30,
   "metadata": {},
   "outputs": [
    {
     "data": {
      "text/plain": [
       "(594, 692, 3)"
      ]
     },
     "execution_count": 30,
     "metadata": {},
     "output_type": "execute_result"
    }
   ],
   "source": [
    "result1.shape"
   ]
  },
  {
   "cell_type": "code",
   "execution_count": 31,
   "metadata": {},
   "outputs": [
    {
     "data": {
      "text/plain": [
       "(400, 300, 3)"
      ]
     },
     "execution_count": 31,
     "metadata": {},
     "output_type": "execute_result"
    }
   ],
   "source": [
    "result2.shape"
   ]
  },
  {
   "cell_type": "code",
   "execution_count": 32,
   "metadata": {},
   "outputs": [
    {
     "data": {
      "text/plain": [
       "400"
      ]
     },
     "execution_count": 32,
     "metadata": {},
     "output_type": "execute_result"
    }
   ],
   "source": [
    "result2.shape[0]"
   ]
  },
  {
   "cell_type": "code",
   "execution_count": 33,
   "metadata": {},
   "outputs": [
    {
     "data": {
      "text/plain": [
       "692"
      ]
     },
     "execution_count": 33,
     "metadata": {},
     "output_type": "execute_result"
    }
   ],
   "source": [
    "result1.shape[1]"
   ]
  },
  {
   "cell_type": "code",
   "execution_count": 34,
   "metadata": {},
   "outputs": [],
   "source": [
    "empty = np.zeros((result2.shape[0],result1.shape[1],3),np.uint8)"
   ]
  },
  {
   "cell_type": "code",
   "execution_count": 36,
   "metadata": {},
   "outputs": [],
   "source": [
    "empty[:,result1.shape[1]-result2.shape[1]:result1.shape[1],:] = result2"
   ]
  },
  {
   "cell_type": "code",
   "execution_count": 37,
   "metadata": {},
   "outputs": [],
   "source": [
    "result2 = empty"
   ]
  },
  {
   "cell_type": "code",
   "execution_count": 38,
   "metadata": {},
   "outputs": [],
   "source": [
    "image6 = image[500:700,400:700,:]\n",
    "image7 = image[600:800,400:700,:]\n",
    "\n",
    "imageA = result1\n",
    "imageB = result2\n",
    "\n",
    "stitcher = Stitcher2()\n",
    "(a,b) = stitcher.stitch([imageA,imageB],showMatches=True)\n"
   ]
  },
  {
   "cell_type": "code",
   "execution_count": 40,
   "metadata": {},
   "outputs": [
    {
     "data": {
      "text/plain": [
       "<matplotlib.image.AxesImage at 0x7fec9c1aa2b0>"
      ]
     },
     "execution_count": 40,
     "metadata": {},
     "output_type": "execute_result"
    },
    {
     "data": {
      "image/png": "[encoded data removed]",
      "text/plain": [
       "<Figure size 432x288 with 1 Axes>"
      ]
     },
     "metadata": {
      "needs_background": "light"
     },
     "output_type": "display_data"
    }
   ],
   "source": [
    "plt.imshow(a)"
   ]
  },
  {
   "cell_type": "code",
   "execution_count": null,
   "metadata": {},
   "outputs": [],
   "source": []
  }
 ],
 "metadata": {
  "kernelspec": {
   "display_name": "Python 3",
   "language": "python",
   "name": "python3"
  },
  "language_info": {
   "codemirror_mode": {
    "name": "ipython",
    "version": 3
   },
   "file_extension": ".py",
   "mimetype": "text/x-python",
   "name": "python",
   "nbconvert_exporter": "python",
   "pygments_lexer": "ipython3",
   "version": "3.7.3"
  }
 },
 "nbformat": 4,
 "nbformat_minor": 2
}
